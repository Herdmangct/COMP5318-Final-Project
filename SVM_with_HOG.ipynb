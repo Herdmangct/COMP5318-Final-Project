{
  "nbformat": 4,
  "nbformat_minor": 0,
  "metadata": {
    "colab": {
      "name": "SVM with HOG.ipynb",
      "version": "0.3.2",
      "provenance": [],
      "collapsed_sections": []
    },
    "kernelspec": {
      "name": "python3",
      "display_name": "Python 3"
    },
    "accelerator": "GPU"
  },
  "cells": [
    {
      "metadata": {
        "id": "04OY3yav7Crs",
        "colab_type": "text"
      },
      "cell_type": "markdown",
      "source": [
        "# COMP5318: Assignment 2 SVM with HOG"
      ]
    },
    {
      "metadata": {
        "id": "2YyT_dkgryPf",
        "colab_type": "code",
        "outputId": "e35c4eb9-ed36-4601-d149-0e510de486b4",
        "colab": {
          "base_uri": "https://localhost:8080/",
          "height": 34
        }
      },
      "cell_type": "code",
      "source": [
        "import numpy as np\n",
        "import matplotlib.pyplot as plt\n",
        "import pandas as pd\n",
        "\n",
        "import keras\n",
        "from keras.datasets import mnist\n",
        "from keras.models import Sequential\n",
        "from keras.layers import Dense, Dropout, Flatten\n",
        "from keras.layers import Conv2D, MaxPooling2D\n",
        "from keras import backend as K\n",
        "from skimage.feature import hog\n",
        "from skimage import color\n",
        "\n",
        "from sklearn import svm\n",
        "import timeit\n",
        "\n",
        "% matplotlib inline"
      ],
      "execution_count": 4,
      "outputs": [
        {
          "output_type": "stream",
          "text": [
            "Using TensorFlow backend.\n"
          ],
          "name": "stderr"
        }
      ]
    },
    {
      "metadata": {
        "id": "b-jjAccHyLeT",
        "colab_type": "code",
        "outputId": "763898a8-0c56-4873-e5ec-b0f988cf3e1e",
        "colab": {
          "base_uri": "https://localhost:8080/",
          "height": 54
        }
      },
      "cell_type": "code",
      "source": [
        "from google.colab import drive\n",
        "drive.mount('/content/drive')"
      ],
      "execution_count": 5,
      "outputs": [
        {
          "output_type": "stream",
          "text": [
            "Drive already mounted at /content/drive; to attempt to forcibly remount, call drive.mount(\"/content/drive\", force_remount=True).\n"
          ],
          "name": "stdout"
        }
      ]
    },
    {
      "metadata": {
        "id": "MtnSsUagr-0L",
        "colab_type": "text"
      },
      "cell_type": "markdown",
      "source": [
        "## 2) Import the data / Train, Test, Split (CF100)\n"
      ]
    },
    {
      "metadata": {
        "id": "t7Clakp4J-aa",
        "colab_type": "text"
      },
      "cell_type": "markdown",
      "source": [
        "Try with 10 coarse classes"
      ]
    },
    {
      "metadata": {
        "id": "TRni-MG37Tsw",
        "colab_type": "text"
      },
      "cell_type": "markdown",
      "source": [
        "### Import the Data "
      ]
    },
    {
      "metadata": {
        "id": "K7-fwmvmw8VE",
        "colab_type": "code",
        "colab": {}
      },
      "cell_type": "code",
      "source": [
        "# used to unwrap data\n",
        "def unpickle(file):\n",
        "    import pickle\n",
        "    with open(file, 'rb') as fo:\n",
        "        dict = pickle.load(fo, encoding='bytes')\n",
        "    return dict"
      ],
      "execution_count": 0,
      "outputs": []
    },
    {
      "metadata": {
        "id": "804_IleO4O7q",
        "colab_type": "code",
        "colab": {}
      },
      "cell_type": "code",
      "source": [
        "# fine labels\n",
        "# train data CF100\n",
        "if False:\n",
        "  data_train = unpickle('/content/drive/My Drive/Colab Notebooks/Assignment_2/train')\n",
        "  x_train = data_train[b'data']\n",
        "  y_train = np.array(data_train[b'fine_labels'])"
      ],
      "execution_count": 0,
      "outputs": []
    },
    {
      "metadata": {
        "id": "grwKHa8_KMHv",
        "colab_type": "code",
        "colab": {}
      },
      "cell_type": "code",
      "source": [
        "# coarse labels\n",
        "# train data CF100\n",
        "if True:\n",
        "  data_train = unpickle('/content/drive/My Drive/Colab Notebooks/Assignment_2/train')\n",
        "  x_train = data_train[b'data']\n",
        "  y_train = np.array(data_train[b'coarse_labels'])"
      ],
      "execution_count": 0,
      "outputs": []
    },
    {
      "metadata": {
        "id": "GczqWzc14bXN",
        "colab_type": "code",
        "outputId": "de65653b-c9c4-462c-f46f-a77a9b1cba85",
        "colab": {
          "base_uri": "https://localhost:8080/",
          "height": 51
        }
      },
      "cell_type": "code",
      "source": [
        "print(x_train.shape)\n",
        "print(y_train.shape)"
      ],
      "execution_count": 9,
      "outputs": [
        {
          "output_type": "stream",
          "text": [
            "(50000, 3072)\n",
            "(50000,)\n"
          ],
          "name": "stdout"
        }
      ]
    },
    {
      "metadata": {
        "id": "-R6qd8Hn4bjm",
        "colab_type": "code",
        "colab": {}
      },
      "cell_type": "code",
      "source": [
        "# fine labels\n",
        "if False:\n",
        "  # test data CF100\n",
        "  data_test= unpickle('/content/drive/My Drive/Colab Notebooks/Assignment_2/test')\n",
        "  x_test= data_test[b'data']\n",
        "  y_test= np.array(data_test[b'fine_labels'])"
      ],
      "execution_count": 0,
      "outputs": []
    },
    {
      "metadata": {
        "id": "pCmyaUNLKhce",
        "colab_type": "code",
        "colab": {}
      },
      "cell_type": "code",
      "source": [
        "# coarse labels\n",
        "if True:\n",
        "  # test data CF100\n",
        "  data_test= unpickle('/content/drive/My Drive/Colab Notebooks/Assignment_2/test')\n",
        "  x_test= data_test[b'data']\n",
        "  y_test= np.array(data_test[b'coarse_labels'])"
      ],
      "execution_count": 0,
      "outputs": []
    },
    {
      "metadata": {
        "id": "8LDm__lG5r13",
        "colab_type": "code",
        "outputId": "55264eaa-daa1-44ac-be31-c7a1040c31b3",
        "colab": {
          "base_uri": "https://localhost:8080/",
          "height": 51
        }
      },
      "cell_type": "code",
      "source": [
        "print(x_test.shape)\n",
        "print(y_test.shape)"
      ],
      "execution_count": 12,
      "outputs": [
        {
          "output_type": "stream",
          "text": [
            "(10000, 3072)\n",
            "(10000,)\n"
          ],
          "name": "stdout"
        }
      ]
    },
    {
      "metadata": {
        "id": "dRiVD8WCBmZR",
        "colab_type": "text"
      },
      "cell_type": "markdown",
      "source": [
        "### Map English Names to Labels"
      ]
    },
    {
      "metadata": {
        "id": "ZiXrx9qLEiLx",
        "colab_type": "text"
      },
      "cell_type": "markdown",
      "source": [
        "#### Training Names"
      ]
    },
    {
      "metadata": {
        "id": "vs5ATMg5BlDe",
        "colab_type": "code",
        "colab": {}
      },
      "cell_type": "code",
      "source": [
        "# Preprocess names to take away file extensions\n",
        "names_train_raw = data_train[b'filenames']\n",
        "\n",
        "names_train = []\n",
        "\n",
        "for x in names_train_raw:\n",
        "  name_str = x.decode(\"utf-8\")\n",
        "  ic = name_str.find('_s_')\n",
        "  name = name_str[:ic]\n",
        "  names_train.append(name)"
      ],
      "execution_count": 0,
      "outputs": []
    },
    {
      "metadata": {
        "id": "4nN0NU6eChQh",
        "colab_type": "code",
        "colab": {}
      },
      "cell_type": "code",
      "source": [
        "# make tuple of names to label\n",
        "l_n_train = [(y_train[i], x) for i, x in enumerate(names_train)]"
      ],
      "execution_count": 0,
      "outputs": []
    },
    {
      "metadata": {
        "id": "MYKH05cGEobk",
        "colab_type": "text"
      },
      "cell_type": "markdown",
      "source": [
        "#### Testing Names"
      ]
    },
    {
      "metadata": {
        "id": "WTUpqUazEo5C",
        "colab_type": "code",
        "colab": {}
      },
      "cell_type": "code",
      "source": [
        "# Preprocess names to take away file extensions\n",
        "names_test_raw = data_test[b'filenames']\n",
        "\n",
        "names_test = []\n",
        "\n",
        "for x in names_test_raw:\n",
        "  name_str = x.decode(\"utf-8\")\n",
        "  ic = name_str.find('_s_')\n",
        "  name = name_str[:ic]\n",
        "  names_test.append(name)"
      ],
      "execution_count": 0,
      "outputs": []
    },
    {
      "metadata": {
        "id": "84XQLrJgEo8j",
        "colab_type": "code",
        "colab": {}
      },
      "cell_type": "code",
      "source": [
        "# make tuple of names to label\n",
        "l_n_test = [(y_test[i], x) for i, x in enumerate(names_test)]"
      ],
      "execution_count": 0,
      "outputs": []
    },
    {
      "metadata": {
        "id": "rviGRSsw7Lmg",
        "colab_type": "text"
      },
      "cell_type": "markdown",
      "source": [
        "### Check All the Components are Imported"
      ]
    },
    {
      "metadata": {
        "id": "gWRIvbPz7cO5",
        "colab_type": "code",
        "outputId": "e207a0e1-5f91-424c-e8c8-e2945d97e324",
        "colab": {
          "base_uri": "https://localhost:8080/",
          "height": 34
        }
      },
      "cell_type": "code",
      "source": [
        "x_train.shape"
      ],
      "execution_count": 13,
      "outputs": [
        {
          "output_type": "execute_result",
          "data": {
            "text/plain": [
              "(50000, 3072)"
            ]
          },
          "metadata": {
            "tags": []
          },
          "execution_count": 13
        }
      ]
    },
    {
      "metadata": {
        "id": "eEcOg1PL7cS3",
        "colab_type": "code",
        "outputId": "c3e2617e-cb47-4136-be68-eb7858f635fd",
        "colab": {
          "base_uri": "https://localhost:8080/",
          "height": 34
        }
      },
      "cell_type": "code",
      "source": [
        "y_train.shape"
      ],
      "execution_count": 14,
      "outputs": [
        {
          "output_type": "execute_result",
          "data": {
            "text/plain": [
              "(50000,)"
            ]
          },
          "metadata": {
            "tags": []
          },
          "execution_count": 14
        }
      ]
    },
    {
      "metadata": {
        "id": "FeKYEn5I1lb9",
        "colab_type": "code",
        "outputId": "05547fd4-e8bd-4487-b2df-433263bc18eb",
        "colab": {
          "base_uri": "https://localhost:8080/",
          "height": 34
        }
      },
      "cell_type": "code",
      "source": [
        "x_test.shape"
      ],
      "execution_count": 15,
      "outputs": [
        {
          "output_type": "execute_result",
          "data": {
            "text/plain": [
              "(10000, 3072)"
            ]
          },
          "metadata": {
            "tags": []
          },
          "execution_count": 15
        }
      ]
    },
    {
      "metadata": {
        "id": "ZN3cV7BMxhIR",
        "colab_type": "code",
        "outputId": "6409b80f-fdbb-44e6-c720-129baefece61",
        "colab": {
          "base_uri": "https://localhost:8080/",
          "height": 34
        }
      },
      "cell_type": "code",
      "source": [
        "y_test.shape"
      ],
      "execution_count": 16,
      "outputs": [
        {
          "output_type": "execute_result",
          "data": {
            "text/plain": [
              "(10000,)"
            ]
          },
          "metadata": {
            "tags": []
          },
          "execution_count": 16
        }
      ]
    },
    {
      "metadata": {
        "id": "CVZ90LRX7bC-",
        "colab_type": "text"
      },
      "cell_type": "markdown",
      "source": [
        "## 3) Explore the Data / Graphs and Correlations"
      ]
    },
    {
      "metadata": {
        "id": "Y54vE1uOsFwi",
        "colab_type": "text"
      },
      "cell_type": "markdown",
      "source": [
        "# What does the data look like?\n"
      ]
    },
    {
      "metadata": {
        "id": "FNyp85kMr4d2",
        "colab_type": "code",
        "outputId": "446994bc-8da3-4d7f-e0ee-087110ede924",
        "colab": {
          "base_uri": "https://localhost:8080/",
          "height": 34
        }
      },
      "cell_type": "code",
      "source": [
        "x_train[0].shape"
      ],
      "execution_count": 17,
      "outputs": [
        {
          "output_type": "execute_result",
          "data": {
            "text/plain": [
              "(3072,)"
            ]
          },
          "metadata": {
            "tags": []
          },
          "execution_count": 17
        }
      ]
    },
    {
      "metadata": {
        "id": "BT0ueYDusD_k",
        "colab_type": "code",
        "outputId": "9d539b26-e9b4-491b-a2e1-6a477ee39dec",
        "colab": {
          "base_uri": "https://localhost:8080/",
          "height": 34
        }
      },
      "cell_type": "code",
      "source": [
        "y_train[0]"
      ],
      "execution_count": 18,
      "outputs": [
        {
          "output_type": "execute_result",
          "data": {
            "text/plain": [
              "11"
            ]
          },
          "metadata": {
            "tags": []
          },
          "execution_count": 18
        }
      ]
    },
    {
      "metadata": {
        "id": "bAGBCXr7sECK",
        "colab_type": "code",
        "colab": {}
      },
      "cell_type": "code",
      "source": [
        "# Reshape the image\n",
        "image = x_train[1].reshape(3, 32, 32)\n",
        "image_reshape = np.transpose(image, (1, 2, 0))\n"
      ],
      "execution_count": 0,
      "outputs": []
    },
    {
      "metadata": {
        "id": "gOC5pN_98g6a",
        "colab_type": "code",
        "colab": {}
      },
      "cell_type": "code",
      "source": [
        "# Turn original image into reshaped image\n",
        "image = image_reshape"
      ],
      "execution_count": 0,
      "outputs": []
    },
    {
      "metadata": {
        "id": "EKpySxIGsEL8",
        "colab_type": "code",
        "colab": {}
      },
      "cell_type": "code",
      "source": [
        "label = l_n_train[1]"
      ],
      "execution_count": 0,
      "outputs": []
    },
    {
      "metadata": {
        "id": "R1rJRcf9sEJm",
        "colab_type": "code",
        "outputId": "f29c94b3-fc29-4a70-a5c1-d7a5dae4f360",
        "colab": {
          "base_uri": "https://localhost:8080/",
          "height": 280
        }
      },
      "cell_type": "code",
      "source": [
        "plt.title('Label is {label}'.format(label=label))\n",
        "plt.imshow(image)\n",
        "plt.show()"
      ],
      "execution_count": 26,
      "outputs": [
        {
          "output_type": "display_data",
          "data": {
            "image/png": "[encoded data removed]",
            "text/plain": [
              "<matplotlib.figure.Figure at 0x7f5fc8ac6ba8>"
            ]
          },
          "metadata": {
            "tags": []
          }
        }
      ]
    },
    {
      "metadata": {
        "id": "8t2_7GJpseCR",
        "colab_type": "text"
      },
      "cell_type": "markdown",
      "source": [
        "# Print out a few examples"
      ]
    },
    {
      "metadata": {
        "id": "CwRmEy20sEIJ",
        "colab_type": "code",
        "outputId": "6ba732c5-2696-490c-c81e-f2868b424d98",
        "colab": {
          "base_uri": "https://localhost:8080/",
          "height": 1332
        }
      },
      "cell_type": "code",
      "source": [
        "for img, y in zip(x_train[0:5], l_n_train[0:5]):\n",
        "    image = img.reshape(3, 32, 32)\n",
        "    image = np.transpose(image, (1, 2, 0))\n",
        "    label = y[0]\n",
        "    name = y[1]\n",
        "    plt.title('{label} : {name}'.format(label=label, name=name))\n",
        "    plt.imshow(image)\n",
        "    plt.show()"
      ],
      "execution_count": 27,
      "outputs": [
        {
          "output_type": "display_data",
          "data": {
            "image/png": "[encoded data removed]",
            "text/plain": [
              "<matplotlib.figure.Figure at 0x7f5fc85a3780>"
            ]
          },
          "metadata": {
            "tags": []
          }
        },
        {
          "output_type": "display_data",
          "data": {
            "image/png": "[encoded data removed]",
            "text/plain": [
              "<matplotlib.figure.Figure at 0x7f5fc5bfff60>"
            ]
          },
          "metadata": {
            "tags": []
          }
        },
        {
          "output_type": "display_data",
          "data": {
            "image/png": "[encoded data removed]",
            "text/plain": [
              "<matplotlib.figure.Figure at 0x7f5fc5c44128>"
            ]
          },
          "metadata": {
            "tags": []
          }
        },
        {
          "output_type": "display_data",
          "data": {
            "image/png": "[encoded data removed]",
            "text/plain": [
              "<matplotlib.figure.Figure at 0x7f5fc84b8198>"
            ]
          },
          "metadata": {
            "tags": []
          }
        },
        {
          "output_type": "display_data",
          "data": {
            "image/png": "[encoded data removed]",
            "text/plain": [
              "<matplotlib.figure.Figure at 0x7f5fc5b7f320>"
            ]
          },
          "metadata": {
            "tags": []
          }
        }
      ]
    },
    {
      "metadata": {
        "id": "b1m-Koq1sl0W",
        "colab_type": "text"
      },
      "cell_type": "markdown",
      "source": [
        "# Setup"
      ]
    },
    {
      "metadata": {
        "id": "M6NNykAxsEGL",
        "colab_type": "code",
        "colab": {}
      },
      "cell_type": "code",
      "source": [
        "batch_size = 256\n",
        "num_classes = 20\n",
        "epochs = 12 # 12 epoch for best results\n",
        "\n",
        "# input image dimensions\n",
        "# need to know how big your images are here \n",
        "img_rows, img_cols, channels = 32, 32, 3\n",
        "\n",
        "if K.image_data_format() == 'channels_first':\n",
        "    x_train = x_train.reshape(x_train.shape[0], channels, img_rows, img_cols)\n",
        "    x_test = x_test.reshape(x_test.shape[0], channels, img_rows, img_cols)\n",
        "    input_shape = (channels, img_rows, img_cols)\n",
        "else:\n",
        "    x_train = x_train.reshape(x_train.shape[0], img_rows, img_cols, channels)\n",
        "    x_test = x_test.reshape(x_test.shape[0], img_rows, img_cols, channels)\n",
        "    input_shape = (img_rows, img_cols, channels)"
      ],
      "execution_count": 0,
      "outputs": []
    },
    {
      "metadata": {
        "id": "piWkxG9Pspzf",
        "colab_type": "text"
      },
      "cell_type": "markdown",
      "source": [
        "# Prepare Data and Normalise"
      ]
    },
    {
      "metadata": {
        "id": "YSqEuF_cskiu",
        "colab_type": "code",
        "outputId": "e7f9351d-1b3d-478b-a2cf-c5161226f5c8",
        "colab": {
          "base_uri": "https://localhost:8080/",
          "height": 85
        }
      },
      "cell_type": "code",
      "source": [
        "x_train = x_train.astype('float32')\n",
        "x_test = x_test.astype('float32')\n",
        "x_train /= 255\n",
        "x_test /= 255\n",
        "print('x_train shape:', x_train.shape)\n",
        "print('y_train shape:', y_train.shape)\n",
        "print(x_train.shape[0], 'train samples')\n",
        "print(x_test.shape[0], 'test samples')"
      ],
      "execution_count": 29,
      "outputs": [
        {
          "output_type": "stream",
          "text": [
            "x_train shape: (50000, 32, 32, 3)\n",
            "y_train shape: (50000,)\n",
            "50000 train samples\n",
            "10000 test samples\n"
          ],
          "name": "stdout"
        }
      ]
    },
    {
      "metadata": {
        "id": "0eaWqFBy2cNd",
        "colab_type": "text"
      },
      "cell_type": "markdown",
      "source": [
        "## Turn RGB to Grayscale"
      ]
    },
    {
      "metadata": {
        "id": "TSa7KQyok-bl",
        "colab_type": "code",
        "colab": {}
      },
      "cell_type": "code",
      "source": [
        "x_train = [ color.rgb2gray(i) for i in x_train]\n",
        "x_test = [ color.rgb2gray(i) for i in x_test]\n"
      ],
      "execution_count": 0,
      "outputs": []
    },
    {
      "metadata": {
        "id": "rJmKPfiR2kXx",
        "colab_type": "text"
      },
      "cell_type": "markdown",
      "source": [
        "## Get the HOG of each image"
      ]
    },
    {
      "metadata": {
        "colab_type": "code",
        "id": "UX52_dNSadHL",
        "outputId": "473293b7-9eb2-4b70-a4a6-f0b8c5baaa82",
        "colab": {
          "base_uri": "https://localhost:8080/",
          "height": 544
        }
      },
      "cell_type": "code",
      "source": [
        "t1 = timeit.default_timer()\n",
        "\n",
        "hog_images = []\n",
        "\n",
        "count = 0\n",
        "ppc = 8\n",
        "x_train_hog = []\n",
        "for image in x_train:\n",
        "    fd,hog_image = hog(image, orientations=8, pixels_per_cell=(ppc,ppc),cells_per_block=(1, 1),block_norm= 'L2',visualise=True)\n",
        "    x_train_hog.append(fd)\n",
        "    hog_images.append(hog_image)\n",
        "    count+=1\n",
        "    if count % 2000 == 0:\n",
        "      print(\"Done \" , count)\n",
        "    \n",
        "count = 0\n",
        "x_test_hog = []\n",
        "for image in x_test:\n",
        "    fd,hog_image = hog(image, orientations=8, pixels_per_cell=(ppc,ppc),cells_per_block=(1, 1),block_norm= 'L2',visualise=True)\n",
        "    x_test_hog.append(fd)\n",
        "    hog_images.append(hog_image)\n",
        "    count+=1\n",
        "    if count % 2000 == 0:\n",
        "      print(\"Done \" , count)\n",
        "      \n",
        "t2 = timeit.default_timer()\n",
        "print('Time:', t2-t1)"
      ],
      "execution_count": 31,
      "outputs": [
        {
          "output_type": "stream",
          "text": [
            "Done  2000\n",
            "Done  4000\n",
            "Done  6000\n",
            "Done  8000\n",
            "Done  10000\n",
            "Done  12000\n",
            "Done  14000\n",
            "Done  16000\n",
            "Done  18000\n",
            "Done  20000\n",
            "Done  22000\n",
            "Done  24000\n",
            "Done  26000\n",
            "Done  28000\n",
            "Done  30000\n",
            "Done  32000\n",
            "Done  34000\n",
            "Done  36000\n",
            "Done  38000\n",
            "Done  40000\n",
            "Done  42000\n",
            "Done  44000\n",
            "Done  46000\n",
            "Done  48000\n",
            "Done  50000\n",
            "Done  2000\n",
            "Done  4000\n",
            "Done  6000\n",
            "Done  8000\n",
            "Done  10000\n",
            "Time: 205.835252537001\n"
          ],
          "name": "stdout"
        }
      ]
    },
    {
      "metadata": {
        "id": "2uQWSbvDipst",
        "colab_type": "text"
      },
      "cell_type": "markdown",
      "source": [
        "## Print a few HOG images"
      ]
    },
    {
      "metadata": {
        "id": "NWKxga9JirlJ",
        "colab_type": "code",
        "colab": {
          "base_uri": "https://localhost:8080/",
          "height": 283
        },
        "outputId": "6e10ddb7-70d5-49bb-afbb-2969faa69e73"
      },
      "cell_type": "code",
      "source": [
        "plt.imshow(hog_images[11])\n"
      ],
      "execution_count": 32,
      "outputs": [
        {
          "output_type": "execute_result",
          "data": {
            "text/plain": [
              "<matplotlib.image.AxesImage at 0x7f5fc47e6710>"
            ]
          },
          "metadata": {
            "tags": []
          },
          "execution_count": 32
        },
        {
          "output_type": "display_data",
          "data": {
            "image/png": "[encoded data removed]",
            "text/plain": [
              "<matplotlib.figure.Figure at 0x7f5fc5b22d30>"
            ]
          },
          "metadata": {
            "tags": []
          }
        }
      ]
    },
    {
      "metadata": {
        "id": "jM-LDSXh2p8o",
        "colab_type": "text"
      },
      "cell_type": "markdown",
      "source": [
        "## SVM and result"
      ]
    },
    {
      "metadata": {
        "id": "XnvNrMHGiF1O",
        "colab_type": "code",
        "outputId": "6ba28c7c-1777-417c-c2a7-dffc781420a2",
        "colab": {
          "base_uri": "https://localhost:8080/",
          "height": 34
        }
      },
      "cell_type": "code",
      "source": [
        "t1 = timeit.default_timer()\n",
        "\n",
        "clf = svm.SVC(C=1.0, kernel='rbf', degree=3, gamma='auto', coef0=0.0, shrinking=True, probability=False, tol=0.001, cache_size=200, class_weight=None, verbose=1, max_iter=-1, decision_function_shape='ovr', random_state=None)\n",
        "clf.fit(x_train_hog, y_train)\n",
        "t2 = timeit.default_timer()\n",
        "train_time = t2-t1\n",
        "print('Train time:', train_time)\n",
        "result = clf.score(x_test_hog, y_test)\n",
        "print('Accuracy:', result)\n",
        "\n",
        "t2 = timeit.default_timer()\n",
        "test_time = t2-train_time\n",
        "print('Test time:', test_time)"
      ],
      "execution_count": 0,
      "outputs": [
        {
          "output_type": "stream",
          "text": [
            "[LibSVM]"
          ],
          "name": "stdout"
        }
      ]
    },
    {
      "metadata": {
        "id": "-UC1H6t9LBQg",
        "colab_type": "text"
      },
      "cell_type": "markdown",
      "source": [
        "## SVM Cross Validate"
      ]
    },
    {
      "metadata": {
        "id": "ynpbXDJcLAPv",
        "colab_type": "code",
        "colab": {
          "base_uri": "https://localhost:8080/",
          "height": 153
        },
        "outputId": "d2f87418-85f5-46ea-f524-c44659a2b01c"
      },
      "cell_type": "code",
      "source": [
        "# Evaluate with 10-Fold Cross Validation\n",
        "from sklearn.metrics import make_scorer, accuracy_score, precision_score, recall_score, f1_score\n",
        "from sklearn import model_selection\n",
        "\n",
        "scoring = {'accuracy': 'accuracy',\n",
        "           'precision': 'precision_macro',\n",
        "           'recall': 'recall_macro',\n",
        "          'f1' : 'f1_macro'}\n",
        "\n",
        "kfold = model_selection.KFold(n_splits=10, random_state=42);\n",
        "clf = svm.SVC(C=1.0, kernel='rbf', degree=3, gamma='auto', coef0=0.0, shrinking=True, probability=False, tol=0.001, cache_size=200, class_weight=None, verbose=False, max_iter=-1, decision_function_shape='ovr', random_state=None);\n",
        "\n",
        "results = model_selection.cross_validate(estimator=model,\n",
        "                                          X=x_train_hog,\n",
        "                                          y=y_train,\n",
        "                                          cv=kfold,\n",
        "                                        scoring=scoring, verbose=2);"
      ],
      "execution_count": 0,
      "outputs": [
        {
          "output_type": "stream",
          "text": [
            "[CV]  ................................................................\n",
            "[CV] ................................................. , total=14.5min\n",
            "[CV]  ................................................................\n"
          ],
          "name": "stdout"
        },
        {
          "output_type": "stream",
          "text": [
            "[Parallel(n_jobs=1)]: Done   1 out of   1 | elapsed: 42.9min remaining:    0.0s\n"
          ],
          "name": "stderr"
        },
        {
          "output_type": "stream",
          "text": [
            "[CV] ................................................. , total=14.5min\n",
            "[CV]  ................................................................\n",
            "[CV] ................................................. , total=14.9min\n",
            "[CV]  ................................................................\n"
          ],
          "name": "stdout"
        }
      ]
    },
    {
      "metadata": {
        "id": "DW9tyhJm_96D",
        "colab_type": "code",
        "colab": {}
      },
      "cell_type": "code",
      "source": [
        "from statistics import mean\n",
        "# Print Results of Cross-Validation\n",
        "test_accuracy = results['test_accuracy']\n",
        "test_precision = results['test_precision']\n",
        "test_recall = results['test_recall']\n",
        "test_f1 = results['test_f1']\n",
        "\n",
        "\n",
        "print('average test_accuracy of cross-valiudation is {0:.4f}'.format(mean(test_accuracy)))\n",
        "print('average test_precision of cross-valiudation is {0:.4f}'.format(mean(test_precision)))\n",
        "print('average test_recall of cross-valiudation is {0:.4f}'.format(mean(test_recall)))\n",
        "print('average test_f1 of cross-valiudation is {0:.4f}'.format(mean(test_f1)))"
      ],
      "execution_count": 0,
      "outputs": []
    },
    {
      "metadata": {
        "id": "Chzxv1iV-rTt",
        "colab_type": "text"
      },
      "cell_type": "markdown",
      "source": [
        "## Confusion matrix"
      ]
    },
    {
      "metadata": {
        "id": "cMTkomUc-eq8",
        "colab_type": "code",
        "colab": {}
      },
      "cell_type": "code",
      "source": [
        "from sklearn.metrics import classification_report;\n",
        "\n",
        "predictions = clf.predict(x_test_hog);\n",
        "\n",
        "print(classification_report(y_test, predictions));"
      ],
      "execution_count": 0,
      "outputs": []
    },
    {
      "metadata": {
        "id": "gFJNYmPU-xfw",
        "colab_type": "code",
        "colab": {}
      },
      "cell_type": "code",
      "source": [
        ""
      ],
      "execution_count": 0,
      "outputs": []
    },
    {
      "metadata": {
        "id": "XTmtTIqkmhnY",
        "colab_type": "text"
      },
      "cell_type": "markdown",
      "source": [
        "### HOG takes: 582.2855162970009 seconds\n",
        "\n",
        "### HOG param: cells_per_block=(4, 4), PPC = 8\n",
        "### Default Parameters\n",
        "\n",
        "Using first 5000 training set, first 5000 test set\n",
        "\n",
        "* Train time: 9.225744007999992\n",
        "* Accuracy: 0.0724\n",
        "* Test time: 14.000498560999972\n",
        "\n",
        "\n",
        "Using first 10000 training set, first 10000 test set\n",
        "\n",
        "* Train time: 37.61121744500008\n",
        "* Accuracy: 0.0687\n",
        "* Test time: 56.66864427799999\n",
        "\n",
        "Using all training set, first 5000 test set\n",
        "* Train time: 974.2101461210001\n",
        "* Accuracy: 0.1568\n",
        "* Test time: 1026.976017176\n",
        "\n",
        "Using all training set, all test set\n",
        "* Accuracy: 0.1599\n",
        "* Test time: 122.91257156399979\n",
        "\n",
        "### HOG param: cells_per_block=(1, 1), PPC = 16\n",
        "### Extreme fast parameters\n",
        "\n",
        "Using first 5000 training set, first 5000 test set\n",
        "* Train time: 3.5292261279996637\n",
        "* Accuracy: 0.1064\n",
        "* Test time: 5.5163444059999165\n",
        "\n",
        "Using all training set, all test set\n",
        "* Train time: 408.387773852\n",
        "* Accuracy: 0.1514\n",
        "* Test time: 448.31752536500017\n",
        "\n",
        "### HOG param: cells_per_block=(1, 1), PPC = 8\n",
        "### Preferred parameters\n",
        "\n",
        "Using first 5000 training set, first 5000 test set, cell per block(1,1)\n",
        "* Train time: 8.726542168000378\n",
        "* Accuracy: 0.113\n",
        "* Test time: 13.507322971000121\n",
        "\n",
        "Using all training set, all test set\n",
        "* Train time: 1634.4581852789997\n",
        "* Accuracy: 0.1754\n",
        "* Test time: 1880.0568681230006\n"
      ]
    },
    {
      "metadata": {
        "id": "x2xvpy4RCmnU",
        "colab_type": "text"
      },
      "cell_type": "markdown",
      "source": [
        "# END CODE"
      ]
    },
    {
      "metadata": {
        "id": "qSPQ8rJGCoAC",
        "colab_type": "code",
        "colab": {}
      },
      "cell_type": "code",
      "source": [
        ""
      ],
      "execution_count": 0,
      "outputs": []
    }
  ]
}