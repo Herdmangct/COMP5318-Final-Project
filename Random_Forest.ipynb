{
  "nbformat": 4,
  "nbformat_minor": 0,
  "metadata": {
    "colab": {
      "name": "Random_Forest.ipynb",
      "version": "0.3.2",
      "provenance": []
    },
    "kernelspec": {
      "name": "python3",
      "display_name": "Python 3"
    },
    "accelerator": "GPU"
  },
  "cells": [
    {
      "metadata": {
        "id": "3dqjGl4-_gtY",
        "colab_type": "text"
      },
      "cell_type": "markdown",
      "source": [
        "# COMP5318: Assignment 2 - Random Forest"
      ]
    },
    {
      "metadata": {
        "id": "UqticJ-g_po_",
        "colab_type": "text"
      },
      "cell_type": "markdown",
      "source": [
        "## 1) Create Hypothesis\n",
        "## 2) Import Data / Train, Test, Split\n",
        "## 3) Explore Data - Graphs and Correlations\n",
        "## 4) Explore Data Distributions\n",
        "## 5) Normalise and Scale\n",
        "## 6) Data Preprocessing\n",
        "## 7) Select Model Features \n",
        "## 8) Kfolds \n",
        "## 9) Build Models \n",
        "## 10) Evaluate models"
      ]
    },
    {
      "metadata": {
        "id": "fBkZhOwb_t6M",
        "colab_type": "text"
      },
      "cell_type": "markdown",
      "source": [
        "## 1) Import Statements"
      ]
    },
    {
      "metadata": {
        "id": "N5AO0Feu_gG_",
        "colab_type": "code",
        "colab": {
          "base_uri": "https://localhost:8080/",
          "height": 34
        },
        "outputId": "8acc2d01-aa40-47ec-bf19-b310a4c5e3e2"
      },
      "cell_type": "code",
      "source": [
        "import numpy as np\n",
        "import matplotlib.pyplot as plt\n",
        "import pandas as pd\n",
        "\n",
        "import keras\n",
        "from keras.datasets import cifar100\n",
        "from keras.preprocessing.image import ImageDataGenerator\n",
        "from keras.models import Sequential\n",
        "from keras.layers import Dense, Dropout, Activation, Flatten\n",
        "from keras.layers import Conv2D, MaxPooling2D\n",
        "\n",
        "import os\n",
        "import pickle\n",
        "import numpy as np\n",
        "import h5py"
      ],
      "execution_count": 1,
      "outputs": [
        {
          "output_type": "stream",
          "text": [
            "Using TensorFlow backend.\n"
          ],
          "name": "stderr"
        }
      ]
    },
    {
      "metadata": {
        "id": "LygntiKG_gJg",
        "colab_type": "code",
        "colab": {
          "base_uri": "https://localhost:8080/",
          "height": 54
        },
        "outputId": "0d257889-84d5-4cc3-91da-7ff86a54eb1f"
      },
      "cell_type": "code",
      "source": [
        "from google.colab import drive\n",
        "drive.mount('/content/drive')"
      ],
      "execution_count": 2,
      "outputs": [
        {
          "output_type": "stream",
          "text": [
            "Drive already mounted at /content/drive; to attempt to forcibly remount, call drive.mount(\"/content/drive\", force_remount=True).\n"
          ],
          "name": "stdout"
        }
      ]
    },
    {
      "metadata": {
        "id": "kkSh9LQf_3Ut",
        "colab_type": "text"
      },
      "cell_type": "markdown",
      "source": [
        "## 2) Import the data / Train, Test, Split (CF100)"
      ]
    },
    {
      "metadata": {
        "id": "QL-InVTy_-sp",
        "colab_type": "text"
      },
      "cell_type": "markdown",
      "source": [
        "### 2.1) Import the Data "
      ]
    },
    {
      "metadata": {
        "id": "VkcepvPW_801",
        "colab_type": "code",
        "colab": {}
      },
      "cell_type": "code",
      "source": [
        "# Import the data, shuffled and split between train and test sets:\n",
        "(x_train, y_train), (x_test, y_test) = cifar100.load_data()\n",
        "x_train = x_train.astype('float32')\n",
        "x_test = x_test.astype('float32')\n"
      ],
      "execution_count": 0,
      "outputs": []
    },
    {
      "metadata": {
        "id": "zIQ6IVbPEjCT",
        "colab_type": "text"
      },
      "cell_type": "markdown",
      "source": [
        "### 2.2) Flatten the Data"
      ]
    },
    {
      "metadata": {
        "id": "qdmoid_EEntp",
        "colab_type": "code",
        "colab": {
          "base_uri": "https://localhost:8080/",
          "height": 34
        },
        "outputId": "deb46054-907a-46d9-ce9f-7269bdd69445"
      },
      "cell_type": "code",
      "source": [
        "# flatten x_train\n",
        "Flat_Data = []\n",
        "\n",
        "for i in range(len(x_train)):\n",
        "    x = np.reshape(x_train[i], (3072,))\n",
        "    Flat_Data.append(x)\n",
        "    \n",
        "x_train = np.array(Flat_Data)\n",
        "x_train.shape"
      ],
      "execution_count": 20,
      "outputs": [
        {
          "output_type": "execute_result",
          "data": {
            "text/plain": [
              "(50000, 3072)"
            ]
          },
          "metadata": {
            "tags": []
          },
          "execution_count": 20
        }
      ]
    },
    {
      "metadata": {
        "id": "3zHeNqcDEq7B",
        "colab_type": "code",
        "colab": {
          "base_uri": "https://localhost:8080/",
          "height": 34
        },
        "outputId": "55fc9bf8-db33-41b8-9973-bd439667f1e1"
      },
      "cell_type": "code",
      "source": [
        "# flatten x_test\n",
        "Flat_Data = []\n",
        "\n",
        "for i in range(len(x_test)):\n",
        "    x = np.reshape(x_test[i], (3072,))\n",
        "    Flat_Data.append(x)\n",
        "    \n",
        "x_test = np.array(Flat_Data)\n",
        "x_test.shape"
      ],
      "execution_count": 21,
      "outputs": [
        {
          "output_type": "execute_result",
          "data": {
            "text/plain": [
              "(10000, 3072)"
            ]
          },
          "metadata": {
            "tags": []
          },
          "execution_count": 21
        }
      ]
    },
    {
      "metadata": {
        "id": "l5I0DR7MAYvA",
        "colab_type": "text"
      },
      "cell_type": "markdown",
      "source": [
        "### 2.3) Take a subset of the data"
      ]
    },
    {
      "metadata": {
        "id": "wEAnQPGM_85E",
        "colab_type": "code",
        "colab": {}
      },
      "cell_type": "code",
      "source": [
        "if True:\n",
        "  # take subset of data 10000 train, 1000 test\n",
        "  x_train = x_train[:10000]\n",
        "  x_test = x_test[:1000]\n",
        "  y_train = y_train[:10000]\n",
        "  y_test = y_test[:1000]"
      ],
      "execution_count": 0,
      "outputs": []
    },
    {
      "metadata": {
        "id": "ua0UbvvQBUHY",
        "colab_type": "text"
      },
      "cell_type": "markdown",
      "source": [
        "## 3) Preprocess the data"
      ]
    },
    {
      "metadata": {
        "id": "iwBFdJc2B4Vc",
        "colab_type": "text"
      },
      "cell_type": "markdown",
      "source": [
        "## 3.1) Normalize the Data"
      ]
    },
    {
      "metadata": {
        "id": "icGSJ0Z7Ab5c",
        "colab_type": "code",
        "colab": {}
      },
      "cell_type": "code",
      "source": [
        "# Normalize the Data \n",
        "x_train /= 255.\n",
        "x_test /= 255."
      ],
      "execution_count": 0,
      "outputs": []
    },
    {
      "metadata": {
        "id": "2Sie9Z8TDM85",
        "colab_type": "text"
      },
      "cell_type": "markdown",
      "source": [
        "## 4) Random Forest Model"
      ]
    },
    {
      "metadata": {
        "id": "fklvLA2MDTDw",
        "colab_type": "text"
      },
      "cell_type": "markdown",
      "source": [
        "### 4.1) Random Forest Model"
      ]
    },
    {
      "metadata": {
        "id": "h5gH3QJaDA92",
        "colab_type": "code",
        "colab": {
          "base_uri": "https://localhost:8080/",
          "height": 615
        },
        "outputId": "0981a4cf-1fee-4c27-b288-9cf19a658e3d"
      },
      "cell_type": "code",
      "source": [
        "# Fit the Model\n",
        "from sklearn.ensemble import RandomForestClassifier\n",
        "rand_state = 8\n",
        "\n",
        "rf = RandomForestClassifier(verbose=1, random_state=rand_state, n_estimators=30, max_depth=5, class_weight='balanced');\n",
        "\n",
        "rf.fit(x_train,y_train);\n",
        "\n"
      ],
      "execution_count": 30,
      "outputs": [
        {
          "output_type": "stream",
          "text": [
            "/usr/local/lib/python3.6/dist-packages/ipykernel_launcher.py:6: DataConversionWarning: A column-vector y was passed when a 1d array was expected. Please change the shape of y to (n_samples,), for example using ravel().\n",
            "  \n"
          ],
          "name": "stderr"
        },
        {
          "output_type": "stream",
          "text": [
            "building tree 1 of 30\n"
          ],
          "name": "stdout"
        },
        {
          "output_type": "stream",
          "text": [
            "[Parallel(n_jobs=1)]: Done   1 out of   1 | elapsed:    0.9s remaining:    0.0s\n"
          ],
          "name": "stderr"
        },
        {
          "output_type": "stream",
          "text": [
            "building tree 2 of 30\n",
            "building tree 3 of 30\n",
            "building tree 4 of 30\n",
            "building tree 5 of 30\n",
            "building tree 6 of 30\n",
            "building tree 7 of 30\n",
            "building tree 8 of 30\n",
            "building tree 9 of 30\n",
            "building tree 10 of 30\n",
            "building tree 11 of 30\n",
            "building tree 12 of 30\n",
            "building tree 13 of 30\n",
            "building tree 14 of 30\n",
            "building tree 15 of 30\n",
            "building tree 16 of 30\n",
            "building tree 17 of 30\n",
            "building tree 18 of 30\n",
            "building tree 19 of 30\n",
            "building tree 20 of 30\n",
            "building tree 21 of 30\n",
            "building tree 22 of 30\n",
            "building tree 23 of 30\n",
            "building tree 24 of 30\n",
            "building tree 25 of 30\n",
            "building tree 26 of 30\n",
            "building tree 27 of 30\n",
            "building tree 28 of 30\n",
            "building tree 29 of 30\n",
            "building tree 30 of 30\n"
          ],
          "name": "stdout"
        },
        {
          "output_type": "stream",
          "text": [
            "[Parallel(n_jobs=1)]: Done  30 out of  30 | elapsed:   27.7s finished\n"
          ],
          "name": "stderr"
        }
      ]
    },
    {
      "metadata": {
        "id": "eByTJyIyG-AZ",
        "colab_type": "code",
        "colab": {
          "base_uri": "https://localhost:8080/",
          "height": 102
        },
        "outputId": "a8d9594a-14e8-48d8-941e-2d8d425adf3c"
      },
      "cell_type": "code",
      "source": [
        "# Evaluate the Model\n",
        "y_pred = rf.predict(x_test);\n",
        "\n",
        "model_score = rf.score(x_test, y_test);\n",
        "print(\"Accuracy of the model is: {}\").format(model_score)"
      ],
      "execution_count": 31,
      "outputs": [
        {
          "output_type": "stream",
          "text": [
            "[Parallel(n_jobs=1)]: Done   1 out of   1 | elapsed:    0.0s remaining:    0.0s\n",
            "[Parallel(n_jobs=1)]: Done  30 out of  30 | elapsed:    0.3s finished\n",
            "[Parallel(n_jobs=1)]: Done   1 out of   1 | elapsed:    0.0s remaining:    0.0s\n",
            "[Parallel(n_jobs=1)]: Done  30 out of  30 | elapsed:    0.3s finished\n"
          ],
          "name": "stderr"
        },
        {
          "output_type": "execute_result",
          "data": {
            "text/plain": [
              "0.1011"
            ]
          },
          "metadata": {
            "tags": []
          },
          "execution_count": 31
        }
      ]
    },
    {
      "metadata": {
        "id": "mwD9nvwtFuHo",
        "colab_type": "code",
        "colab": {
          "base_uri": "https://localhost:8080/",
          "height": 34
        },
        "outputId": "1235186c-090f-4e62-cf29-893ee9731a72"
      },
      "cell_type": "code",
      "source": [
        "x_train.shape"
      ],
      "execution_count": 25,
      "outputs": [
        {
          "output_type": "execute_result",
          "data": {
            "text/plain": [
              "(50000, 3072)"
            ]
          },
          "metadata": {
            "tags": []
          },
          "execution_count": 25
        }
      ]
    },
    {
      "metadata": {
        "id": "8LYWzCFMFwJT",
        "colab_type": "code",
        "colab": {
          "base_uri": "https://localhost:8080/",
          "height": 34
        },
        "outputId": "f7120aad-c38d-4327-a2ff-9a62823320c5"
      },
      "cell_type": "code",
      "source": [
        "y_train.shape"
      ],
      "execution_count": 26,
      "outputs": [
        {
          "output_type": "execute_result",
          "data": {
            "text/plain": [
              "(50000, 1)"
            ]
          },
          "metadata": {
            "tags": []
          },
          "execution_count": 26
        }
      ]
    },
    {
      "metadata": {
        "id": "vM8CdYnGHF_1",
        "colab_type": "code",
        "colab": {
          "base_uri": "https://localhost:8080/",
          "height": 34
        },
        "outputId": "4c1378ca-f5a6-4820-e758-eb1f9d2eedac"
      },
      "cell_type": "code",
      "source": [
        "x_test.shape"
      ],
      "execution_count": 27,
      "outputs": [
        {
          "output_type": "execute_result",
          "data": {
            "text/plain": [
              "(10000, 3072)"
            ]
          },
          "metadata": {
            "tags": []
          },
          "execution_count": 27
        }
      ]
    },
    {
      "metadata": {
        "id": "w7PPeml8HGCt",
        "colab_type": "code",
        "colab": {
          "base_uri": "https://localhost:8080/",
          "height": 34
        },
        "outputId": "34137287-84bd-4dd3-bdfd-0f7e5ba80146"
      },
      "cell_type": "code",
      "source": [
        "x_train.shape"
      ],
      "execution_count": 32,
      "outputs": [
        {
          "output_type": "execute_result",
          "data": {
            "text/plain": [
              "(50000, 3072)"
            ]
          },
          "metadata": {
            "tags": []
          },
          "execution_count": 32
        }
      ]
    },
    {
      "metadata": {
        "id": "r8YcmJERDYK0",
        "colab_type": "text"
      },
      "cell_type": "markdown",
      "source": [
        "### 4.2) Random Forest Model + 10 Fold Cross Validation "
      ]
    },
    {
      "metadata": {
        "id": "LYR3yFp4Ab8W",
        "colab_type": "code",
        "colab": {
          "base_uri": "https://localhost:8080/",
          "height": 9217
        },
        "outputId": "e7b81f05-627c-4995-cde6-718018f9165c"
      },
      "cell_type": "code",
      "source": [
        "# Evaluate with 10-Fold Cross Validation\n",
        "from sklearn.metrics import make_scorer, accuracy_score, precision_score, recall_score, f1_score\n",
        "from sklearn import model_selection\n",
        "\n",
        "scoring = {'accuracy': 'accuracy',\n",
        "           'precision': 'precision_macro',\n",
        "           'recall': 'recall_macro',\n",
        "          'f1' : 'f1_macro'}\n",
        "\n",
        "kfold = model_selection.KFold(n_splits=10, random_state=42);\n",
        "model=RandomForestClassifier(verbose=1, random_state=rand_state, n_estimators=30, max_depth=5, class_weight='balanced'); \n",
        "\n",
        "results = model_selection.cross_validate(estimator=model,\n",
        "                                          X=x_train,\n",
        "                                          y=y_train,\n",
        "                                          cv=kfold,\n",
        "                                        scoring=scoring);\n"
      ],
      "execution_count": 49,
      "outputs": [
        {
          "output_type": "stream",
          "text": [
            "/usr/local/lib/python3.6/dist-packages/sklearn/model_selection/_validation.py:458: DataConversionWarning: A column-vector y was passed when a 1d array was expected. Please change the shape of y to (n_samples,), for example using ravel().\n",
            "  estimator.fit(X_train, y_train, **fit_params)\n"
          ],
          "name": "stderr"
        },
        {
          "output_type": "stream",
          "text": [
            "building tree 1 of 30\n"
          ],
          "name": "stdout"
        },
        {
          "output_type": "stream",
          "text": [
            "[Parallel(n_jobs=1)]: Done   1 out of   1 | elapsed:    0.8s remaining:    0.0s\n"
          ],
          "name": "stderr"
        },
        {
          "output_type": "stream",
          "text": [
            "building tree 2 of 30\n",
            "building tree 3 of 30\n",
            "building tree 4 of 30\n",
            "building tree 5 of 30\n",
            "building tree 6 of 30\n",
            "building tree 7 of 30\n",
            "building tree 8 of 30\n",
            "building tree 9 of 30\n",
            "building tree 10 of 30\n",
            "building tree 11 of 30\n",
            "building tree 12 of 30\n",
            "building tree 13 of 30\n",
            "building tree 14 of 30\n",
            "building tree 15 of 30\n",
            "building tree 16 of 30\n",
            "building tree 17 of 30\n",
            "building tree 18 of 30\n",
            "building tree 19 of 30\n",
            "building tree 20 of 30\n",
            "building tree 21 of 30\n",
            "building tree 22 of 30\n",
            "building tree 23 of 30\n",
            "building tree 24 of 30\n",
            "building tree 25 of 30\n",
            "building tree 26 of 30\n",
            "building tree 27 of 30\n",
            "building tree 28 of 30\n",
            "building tree 29 of 30\n",
            "building tree 30 of 30\n"
          ],
          "name": "stdout"
        },
        {
          "output_type": "stream",
          "text": [
            "[Parallel(n_jobs=1)]: Done  30 out of  30 | elapsed:   24.8s finished\n",
            "[Parallel(n_jobs=1)]: Done   1 out of   1 | elapsed:    0.0s remaining:    0.0s\n",
            "[Parallel(n_jobs=1)]: Done  30 out of  30 | elapsed:    0.1s finished\n",
            "[Parallel(n_jobs=1)]: Done   1 out of   1 | elapsed:    0.0s remaining:    0.0s\n",
            "[Parallel(n_jobs=1)]: Done  30 out of  30 | elapsed:    0.1s finished\n",
            "/usr/local/lib/python3.6/dist-packages/sklearn/metrics/classification.py:1135: UndefinedMetricWarning: Precision is ill-defined and being set to 0.0 in labels with no predicted samples.\n",
            "  'precision', 'predicted', average, warn_for)\n",
            "[Parallel(n_jobs=1)]: Done   1 out of   1 | elapsed:    0.0s remaining:    0.0s\n",
            "[Parallel(n_jobs=1)]: Done  30 out of  30 | elapsed:    0.1s finished\n",
            "[Parallel(n_jobs=1)]: Done   1 out of   1 | elapsed:    0.0s remaining:    0.0s\n",
            "[Parallel(n_jobs=1)]: Done  30 out of  30 | elapsed:    0.1s finished\n",
            "/usr/local/lib/python3.6/dist-packages/sklearn/metrics/classification.py:1135: UndefinedMetricWarning: F-score is ill-defined and being set to 0.0 in labels with no predicted samples.\n",
            "  'precision', 'predicted', average, warn_for)\n",
            "[Parallel(n_jobs=1)]: Done   1 out of   1 | elapsed:    0.1s remaining:    0.0s\n",
            "[Parallel(n_jobs=1)]: Done  30 out of  30 | elapsed:    1.3s finished\n",
            "[Parallel(n_jobs=1)]: Done   1 out of   1 | elapsed:    0.0s remaining:    0.0s\n",
            "[Parallel(n_jobs=1)]: Done  30 out of  30 | elapsed:    1.3s finished\n",
            "[Parallel(n_jobs=1)]: Done   1 out of   1 | elapsed:    0.0s remaining:    0.0s\n",
            "[Parallel(n_jobs=1)]: Done  30 out of  30 | elapsed:    1.3s finished\n",
            "[Parallel(n_jobs=1)]: Done   1 out of   1 | elapsed:    0.0s remaining:    0.0s\n",
            "[Parallel(n_jobs=1)]: Done  30 out of  30 | elapsed:    1.3s finished\n",
            "/usr/local/lib/python3.6/dist-packages/sklearn/model_selection/_validation.py:458: DataConversionWarning: A column-vector y was passed when a 1d array was expected. Please change the shape of y to (n_samples,), for example using ravel().\n",
            "  estimator.fit(X_train, y_train, **fit_params)\n"
          ],
          "name": "stderr"
        },
        {
          "output_type": "stream",
          "text": [
            "building tree 1 of 30\n"
          ],
          "name": "stdout"
        },
        {
          "output_type": "stream",
          "text": [
            "[Parallel(n_jobs=1)]: Done   1 out of   1 | elapsed:    0.8s remaining:    0.0s\n"
          ],
          "name": "stderr"
        },
        {
          "output_type": "stream",
          "text": [
            "building tree 2 of 30\n",
            "building tree 3 of 30\n",
            "building tree 4 of 30\n",
            "building tree 5 of 30\n",
            "building tree 6 of 30\n",
            "building tree 7 of 30\n",
            "building tree 8 of 30\n",
            "building tree 9 of 30\n",
            "building tree 10 of 30\n",
            "building tree 11 of 30\n",
            "building tree 12 of 30\n",
            "building tree 13 of 30\n",
            "building tree 14 of 30\n",
            "building tree 15 of 30\n",
            "building tree 16 of 30\n",
            "building tree 17 of 30\n",
            "building tree 18 of 30\n",
            "building tree 19 of 30\n",
            "building tree 20 of 30\n",
            "building tree 21 of 30\n",
            "building tree 22 of 30\n",
            "building tree 23 of 30\n",
            "building tree 24 of 30\n",
            "building tree 25 of 30\n",
            "building tree 26 of 30\n",
            "building tree 27 of 30\n",
            "building tree 28 of 30\n",
            "building tree 29 of 30\n",
            "building tree 30 of 30\n"
          ],
          "name": "stdout"
        },
        {
          "output_type": "stream",
          "text": [
            "[Parallel(n_jobs=1)]: Done  30 out of  30 | elapsed:   24.8s finished\n",
            "[Parallel(n_jobs=1)]: Done   1 out of   1 | elapsed:    0.0s remaining:    0.0s\n",
            "[Parallel(n_jobs=1)]: Done  30 out of  30 | elapsed:    0.1s finished\n",
            "[Parallel(n_jobs=1)]: Done   1 out of   1 | elapsed:    0.0s remaining:    0.0s\n",
            "[Parallel(n_jobs=1)]: Done  30 out of  30 | elapsed:    0.1s finished\n",
            "/usr/local/lib/python3.6/dist-packages/sklearn/metrics/classification.py:1135: UndefinedMetricWarning: Precision is ill-defined and being set to 0.0 in labels with no predicted samples.\n",
            "  'precision', 'predicted', average, warn_for)\n",
            "[Parallel(n_jobs=1)]: Done   1 out of   1 | elapsed:    0.0s remaining:    0.0s\n",
            "[Parallel(n_jobs=1)]: Done  30 out of  30 | elapsed:    0.1s finished\n",
            "[Parallel(n_jobs=1)]: Done   1 out of   1 | elapsed:    0.0s remaining:    0.0s\n",
            "[Parallel(n_jobs=1)]: Done  30 out of  30 | elapsed:    0.1s finished\n",
            "/usr/local/lib/python3.6/dist-packages/sklearn/metrics/classification.py:1135: UndefinedMetricWarning: F-score is ill-defined and being set to 0.0 in labels with no predicted samples.\n",
            "  'precision', 'predicted', average, warn_for)\n",
            "[Parallel(n_jobs=1)]: Done   1 out of   1 | elapsed:    0.0s remaining:    0.0s\n",
            "[Parallel(n_jobs=1)]: Done  30 out of  30 | elapsed:    1.3s finished\n",
            "[Parallel(n_jobs=1)]: Done   1 out of   1 | elapsed:    0.0s remaining:    0.0s\n",
            "[Parallel(n_jobs=1)]: Done  30 out of  30 | elapsed:    1.3s finished\n",
            "[Parallel(n_jobs=1)]: Done   1 out of   1 | elapsed:    0.0s remaining:    0.0s\n",
            "[Parallel(n_jobs=1)]: Done  30 out of  30 | elapsed:    1.3s finished\n",
            "[Parallel(n_jobs=1)]: Done   1 out of   1 | elapsed:    0.0s remaining:    0.0s\n",
            "[Parallel(n_jobs=1)]: Done  30 out of  30 | elapsed:    1.3s finished\n",
            "/usr/local/lib/python3.6/dist-packages/sklearn/model_selection/_validation.py:458: DataConversionWarning: A column-vector y was passed when a 1d array was expected. Please change the shape of y to (n_samples,), for example using ravel().\n",
            "  estimator.fit(X_train, y_train, **fit_params)\n"
          ],
          "name": "stderr"
        },
        {
          "output_type": "stream",
          "text": [
            "building tree 1 of 30\n"
          ],
          "name": "stdout"
        },
        {
          "output_type": "stream",
          "text": [
            "[Parallel(n_jobs=1)]: Done   1 out of   1 | elapsed:    0.8s remaining:    0.0s\n"
          ],
          "name": "stderr"
        },
        {
          "output_type": "stream",
          "text": [
            "building tree 2 of 30\n",
            "building tree 3 of 30\n",
            "building tree 4 of 30\n",
            "building tree 5 of 30\n",
            "building tree 6 of 30\n",
            "building tree 7 of 30\n",
            "building tree 8 of 30\n",
            "building tree 9 of 30\n",
            "building tree 10 of 30\n",
            "building tree 11 of 30\n",
            "building tree 12 of 30\n",
            "building tree 13 of 30\n",
            "building tree 14 of 30\n",
            "building tree 15 of 30\n",
            "building tree 16 of 30\n",
            "building tree 17 of 30\n",
            "building tree 18 of 30\n",
            "building tree 19 of 30\n",
            "building tree 20 of 30\n",
            "building tree 21 of 30\n",
            "building tree 22 of 30\n",
            "building tree 23 of 30\n",
            "building tree 24 of 30\n",
            "building tree 25 of 30\n",
            "building tree 26 of 30\n",
            "building tree 27 of 30\n",
            "building tree 28 of 30\n",
            "building tree 29 of 30\n",
            "building tree 30 of 30\n"
          ],
          "name": "stdout"
        },
        {
          "output_type": "stream",
          "text": [
            "[Parallel(n_jobs=1)]: Done  30 out of  30 | elapsed:   24.9s finished\n",
            "[Parallel(n_jobs=1)]: Done   1 out of   1 | elapsed:    0.0s remaining:    0.0s\n",
            "[Parallel(n_jobs=1)]: Done  30 out of  30 | elapsed:    0.1s finished\n",
            "[Parallel(n_jobs=1)]: Done   1 out of   1 | elapsed:    0.0s remaining:    0.0s\n",
            "[Parallel(n_jobs=1)]: Done  30 out of  30 | elapsed:    0.1s finished\n",
            "/usr/local/lib/python3.6/dist-packages/sklearn/metrics/classification.py:1135: UndefinedMetricWarning: Precision is ill-defined and being set to 0.0 in labels with no predicted samples.\n",
            "  'precision', 'predicted', average, warn_for)\n",
            "[Parallel(n_jobs=1)]: Done   1 out of   1 | elapsed:    0.0s remaining:    0.0s\n",
            "[Parallel(n_jobs=1)]: Done  30 out of  30 | elapsed:    0.1s finished\n",
            "[Parallel(n_jobs=1)]: Done   1 out of   1 | elapsed:    0.0s remaining:    0.0s\n",
            "[Parallel(n_jobs=1)]: Done  30 out of  30 | elapsed:    0.1s finished\n",
            "/usr/local/lib/python3.6/dist-packages/sklearn/metrics/classification.py:1135: UndefinedMetricWarning: F-score is ill-defined and being set to 0.0 in labels with no predicted samples.\n",
            "  'precision', 'predicted', average, warn_for)\n",
            "[Parallel(n_jobs=1)]: Done   1 out of   1 | elapsed:    0.0s remaining:    0.0s\n",
            "[Parallel(n_jobs=1)]: Done  30 out of  30 | elapsed:    1.3s finished\n",
            "[Parallel(n_jobs=1)]: Done   1 out of   1 | elapsed:    0.0s remaining:    0.0s\n",
            "[Parallel(n_jobs=1)]: Done  30 out of  30 | elapsed:    1.3s finished\n",
            "[Parallel(n_jobs=1)]: Done   1 out of   1 | elapsed:    0.0s remaining:    0.0s\n",
            "[Parallel(n_jobs=1)]: Done  30 out of  30 | elapsed:    1.3s finished\n",
            "[Parallel(n_jobs=1)]: Done   1 out of   1 | elapsed:    0.0s remaining:    0.0s\n",
            "[Parallel(n_jobs=1)]: Done  30 out of  30 | elapsed:    1.3s finished\n",
            "/usr/local/lib/python3.6/dist-packages/sklearn/model_selection/_validation.py:458: DataConversionWarning: A column-vector y was passed when a 1d array was expected. Please change the shape of y to (n_samples,), for example using ravel().\n",
            "  estimator.fit(X_train, y_train, **fit_params)\n"
          ],
          "name": "stderr"
        },
        {
          "output_type": "stream",
          "text": [
            "building tree 1 of 30\n"
          ],
          "name": "stdout"
        },
        {
          "output_type": "stream",
          "text": [
            "[Parallel(n_jobs=1)]: Done   1 out of   1 | elapsed:    0.8s remaining:    0.0s\n"
          ],
          "name": "stderr"
        },
        {
          "output_type": "stream",
          "text": [
            "building tree 2 of 30\n",
            "building tree 3 of 30\n",
            "building tree 4 of 30\n",
            "building tree 5 of 30\n",
            "building tree 6 of 30\n",
            "building tree 7 of 30\n",
            "building tree 8 of 30\n",
            "building tree 9 of 30\n",
            "building tree 10 of 30\n",
            "building tree 11 of 30\n",
            "building tree 12 of 30\n",
            "building tree 13 of 30\n",
            "building tree 14 of 30\n",
            "building tree 15 of 30\n",
            "building tree 16 of 30\n",
            "building tree 17 of 30\n",
            "building tree 18 of 30\n",
            "building tree 19 of 30\n",
            "building tree 20 of 30\n",
            "building tree 21 of 30\n",
            "building tree 22 of 30\n",
            "building tree 23 of 30\n",
            "building tree 24 of 30\n",
            "building tree 25 of 30\n",
            "building tree 26 of 30\n",
            "building tree 27 of 30\n",
            "building tree 28 of 30\n",
            "building tree 29 of 30\n",
            "building tree 30 of 30\n"
          ],
          "name": "stdout"
        },
        {
          "output_type": "stream",
          "text": [
            "[Parallel(n_jobs=1)]: Done  30 out of  30 | elapsed:   24.9s finished\n",
            "[Parallel(n_jobs=1)]: Done   1 out of   1 | elapsed:    0.0s remaining:    0.0s\n",
            "[Parallel(n_jobs=1)]: Done  30 out of  30 | elapsed:    0.1s finished\n",
            "[Parallel(n_jobs=1)]: Done   1 out of   1 | elapsed:    0.0s remaining:    0.0s\n",
            "[Parallel(n_jobs=1)]: Done  30 out of  30 | elapsed:    0.1s finished\n",
            "/usr/local/lib/python3.6/dist-packages/sklearn/metrics/classification.py:1135: UndefinedMetricWarning: Precision is ill-defined and being set to 0.0 in labels with no predicted samples.\n",
            "  'precision', 'predicted', average, warn_for)\n",
            "[Parallel(n_jobs=1)]: Done   1 out of   1 | elapsed:    0.0s remaining:    0.0s\n",
            "[Parallel(n_jobs=1)]: Done  30 out of  30 | elapsed:    0.1s finished\n",
            "[Parallel(n_jobs=1)]: Done   1 out of   1 | elapsed:    0.0s remaining:    0.0s\n",
            "[Parallel(n_jobs=1)]: Done  30 out of  30 | elapsed:    0.1s finished\n",
            "/usr/local/lib/python3.6/dist-packages/sklearn/metrics/classification.py:1135: UndefinedMetricWarning: F-score is ill-defined and being set to 0.0 in labels with no predicted samples.\n",
            "  'precision', 'predicted', average, warn_for)\n",
            "[Parallel(n_jobs=1)]: Done   1 out of   1 | elapsed:    0.0s remaining:    0.0s\n",
            "[Parallel(n_jobs=1)]: Done  30 out of  30 | elapsed:    1.3s finished\n",
            "[Parallel(n_jobs=1)]: Done   1 out of   1 | elapsed:    0.0s remaining:    0.0s\n",
            "[Parallel(n_jobs=1)]: Done  30 out of  30 | elapsed:    1.3s finished\n",
            "[Parallel(n_jobs=1)]: Done   1 out of   1 | elapsed:    0.0s remaining:    0.0s\n",
            "[Parallel(n_jobs=1)]: Done  30 out of  30 | elapsed:    1.3s finished\n",
            "[Parallel(n_jobs=1)]: Done   1 out of   1 | elapsed:    0.0s remaining:    0.0s\n",
            "[Parallel(n_jobs=1)]: Done  30 out of  30 | elapsed:    1.3s finished\n",
            "/usr/local/lib/python3.6/dist-packages/sklearn/model_selection/_validation.py:458: DataConversionWarning: A column-vector y was passed when a 1d array was expected. Please change the shape of y to (n_samples,), for example using ravel().\n",
            "  estimator.fit(X_train, y_train, **fit_params)\n"
          ],
          "name": "stderr"
        },
        {
          "output_type": "stream",
          "text": [
            "building tree 1 of 30\n"
          ],
          "name": "stdout"
        },
        {
          "output_type": "stream",
          "text": [
            "[Parallel(n_jobs=1)]: Done   1 out of   1 | elapsed:    0.8s remaining:    0.0s\n"
          ],
          "name": "stderr"
        },
        {
          "output_type": "stream",
          "text": [
            "building tree 2 of 30\n",
            "building tree 3 of 30\n",
            "building tree 4 of 30\n",
            "building tree 5 of 30\n",
            "building tree 6 of 30\n",
            "building tree 7 of 30\n",
            "building tree 8 of 30\n",
            "building tree 9 of 30\n",
            "building tree 10 of 30\n",
            "building tree 11 of 30\n",
            "building tree 12 of 30\n",
            "building tree 13 of 30\n",
            "building tree 14 of 30\n",
            "building tree 15 of 30\n",
            "building tree 16 of 30\n",
            "building tree 17 of 30\n",
            "building tree 18 of 30\n",
            "building tree 19 of 30\n",
            "building tree 20 of 30\n",
            "building tree 21 of 30\n",
            "building tree 22 of 30\n",
            "building tree 23 of 30\n",
            "building tree 24 of 30\n",
            "building tree 25 of 30\n",
            "building tree 26 of 30\n",
            "building tree 27 of 30\n",
            "building tree 28 of 30\n",
            "building tree 29 of 30\n",
            "building tree 30 of 30\n"
          ],
          "name": "stdout"
        },
        {
          "output_type": "stream",
          "text": [
            "[Parallel(n_jobs=1)]: Done  30 out of  30 | elapsed:   25.0s finished\n",
            "[Parallel(n_jobs=1)]: Done   1 out of   1 | elapsed:    0.0s remaining:    0.0s\n",
            "[Parallel(n_jobs=1)]: Done  30 out of  30 | elapsed:    0.1s finished\n",
            "[Parallel(n_jobs=1)]: Done   1 out of   1 | elapsed:    0.0s remaining:    0.0s\n",
            "[Parallel(n_jobs=1)]: Done  30 out of  30 | elapsed:    0.1s finished\n",
            "/usr/local/lib/python3.6/dist-packages/sklearn/metrics/classification.py:1135: UndefinedMetricWarning: Precision is ill-defined and being set to 0.0 in labels with no predicted samples.\n",
            "  'precision', 'predicted', average, warn_for)\n",
            "[Parallel(n_jobs=1)]: Done   1 out of   1 | elapsed:    0.0s remaining:    0.0s\n",
            "[Parallel(n_jobs=1)]: Done  30 out of  30 | elapsed:    0.1s finished\n",
            "[Parallel(n_jobs=1)]: Done   1 out of   1 | elapsed:    0.0s remaining:    0.0s\n",
            "[Parallel(n_jobs=1)]: Done  30 out of  30 | elapsed:    0.1s finished\n",
            "/usr/local/lib/python3.6/dist-packages/sklearn/metrics/classification.py:1135: UndefinedMetricWarning: F-score is ill-defined and being set to 0.0 in labels with no predicted samples.\n",
            "  'precision', 'predicted', average, warn_for)\n",
            "[Parallel(n_jobs=1)]: Done   1 out of   1 | elapsed:    0.0s remaining:    0.0s\n",
            "[Parallel(n_jobs=1)]: Done  30 out of  30 | elapsed:    1.3s finished\n",
            "[Parallel(n_jobs=1)]: Done   1 out of   1 | elapsed:    0.0s remaining:    0.0s\n",
            "[Parallel(n_jobs=1)]: Done  30 out of  30 | elapsed:    1.3s finished\n",
            "[Parallel(n_jobs=1)]: Done   1 out of   1 | elapsed:    0.0s remaining:    0.0s\n",
            "[Parallel(n_jobs=1)]: Done  30 out of  30 | elapsed:    1.3s finished\n",
            "[Parallel(n_jobs=1)]: Done   1 out of   1 | elapsed:    0.0s remaining:    0.0s\n",
            "[Parallel(n_jobs=1)]: Done  30 out of  30 | elapsed:    1.3s finished\n",
            "/usr/local/lib/python3.6/dist-packages/sklearn/model_selection/_validation.py:458: DataConversionWarning: A column-vector y was passed when a 1d array was expected. Please change the shape of y to (n_samples,), for example using ravel().\n",
            "  estimator.fit(X_train, y_train, **fit_params)\n"
          ],
          "name": "stderr"
        },
        {
          "output_type": "stream",
          "text": [
            "building tree 1 of 30\n"
          ],
          "name": "stdout"
        },
        {
          "output_type": "stream",
          "text": [
            "[Parallel(n_jobs=1)]: Done   1 out of   1 | elapsed:    0.8s remaining:    0.0s\n"
          ],
          "name": "stderr"
        },
        {
          "output_type": "stream",
          "text": [
            "building tree 2 of 30\n",
            "building tree 3 of 30\n",
            "building tree 4 of 30\n",
            "building tree 5 of 30\n",
            "building tree 6 of 30\n",
            "building tree 7 of 30\n",
            "building tree 8 of 30\n",
            "building tree 9 of 30\n",
            "building tree 10 of 30\n",
            "building tree 11 of 30\n",
            "building tree 12 of 30\n",
            "building tree 13 of 30\n",
            "building tree 14 of 30\n",
            "building tree 15 of 30\n",
            "building tree 16 of 30\n",
            "building tree 17 of 30\n",
            "building tree 18 of 30\n",
            "building tree 19 of 30\n",
            "building tree 20 of 30\n",
            "building tree 21 of 30\n",
            "building tree 22 of 30\n",
            "building tree 23 of 30\n",
            "building tree 24 of 30\n",
            "building tree 25 of 30\n",
            "building tree 26 of 30\n",
            "building tree 27 of 30\n",
            "building tree 28 of 30\n",
            "building tree 29 of 30\n",
            "building tree 30 of 30\n"
          ],
          "name": "stdout"
        },
        {
          "output_type": "stream",
          "text": [
            "[Parallel(n_jobs=1)]: Done  30 out of  30 | elapsed:   24.9s finished\n",
            "[Parallel(n_jobs=1)]: Done   1 out of   1 | elapsed:    0.0s remaining:    0.0s\n",
            "[Parallel(n_jobs=1)]: Done  30 out of  30 | elapsed:    0.1s finished\n",
            "[Parallel(n_jobs=1)]: Done   1 out of   1 | elapsed:    0.0s remaining:    0.0s\n",
            "[Parallel(n_jobs=1)]: Done  30 out of  30 | elapsed:    0.1s finished\n",
            "/usr/local/lib/python3.6/dist-packages/sklearn/metrics/classification.py:1135: UndefinedMetricWarning: Precision is ill-defined and being set to 0.0 in labels with no predicted samples.\n",
            "  'precision', 'predicted', average, warn_for)\n",
            "[Parallel(n_jobs=1)]: Done   1 out of   1 | elapsed:    0.0s remaining:    0.0s\n",
            "[Parallel(n_jobs=1)]: Done  30 out of  30 | elapsed:    0.1s finished\n",
            "[Parallel(n_jobs=1)]: Done   1 out of   1 | elapsed:    0.0s remaining:    0.0s\n",
            "[Parallel(n_jobs=1)]: Done  30 out of  30 | elapsed:    0.1s finished\n",
            "/usr/local/lib/python3.6/dist-packages/sklearn/metrics/classification.py:1135: UndefinedMetricWarning: F-score is ill-defined and being set to 0.0 in labels with no predicted samples.\n",
            "  'precision', 'predicted', average, warn_for)\n",
            "[Parallel(n_jobs=1)]: Done   1 out of   1 | elapsed:    0.0s remaining:    0.0s\n",
            "[Parallel(n_jobs=1)]: Done  30 out of  30 | elapsed:    1.3s finished\n",
            "[Parallel(n_jobs=1)]: Done   1 out of   1 | elapsed:    0.0s remaining:    0.0s\n",
            "[Parallel(n_jobs=1)]: Done  30 out of  30 | elapsed:    1.3s finished\n",
            "[Parallel(n_jobs=1)]: Done   1 out of   1 | elapsed:    0.0s remaining:    0.0s\n",
            "[Parallel(n_jobs=1)]: Done  30 out of  30 | elapsed:    1.3s finished\n",
            "[Parallel(n_jobs=1)]: Done   1 out of   1 | elapsed:    0.0s remaining:    0.0s\n",
            "[Parallel(n_jobs=1)]: Done  30 out of  30 | elapsed:    1.3s finished\n",
            "/usr/local/lib/python3.6/dist-packages/sklearn/model_selection/_validation.py:458: DataConversionWarning: A column-vector y was passed when a 1d array was expected. Please change the shape of y to (n_samples,), for example using ravel().\n",
            "  estimator.fit(X_train, y_train, **fit_params)\n"
          ],
          "name": "stderr"
        },
        {
          "output_type": "stream",
          "text": [
            "building tree 1 of 30\n"
          ],
          "name": "stdout"
        },
        {
          "output_type": "stream",
          "text": [
            "[Parallel(n_jobs=1)]: Done   1 out of   1 | elapsed:    0.8s remaining:    0.0s\n"
          ],
          "name": "stderr"
        },
        {
          "output_type": "stream",
          "text": [
            "building tree 2 of 30\n",
            "building tree 3 of 30\n",
            "building tree 4 of 30\n",
            "building tree 5 of 30\n",
            "building tree 6 of 30\n",
            "building tree 7 of 30\n",
            "building tree 8 of 30\n",
            "building tree 9 of 30\n",
            "building tree 10 of 30\n",
            "building tree 11 of 30\n",
            "building tree 12 of 30\n",
            "building tree 13 of 30\n",
            "building tree 14 of 30\n",
            "building tree 15 of 30\n",
            "building tree 16 of 30\n",
            "building tree 17 of 30\n",
            "building tree 18 of 30\n",
            "building tree 19 of 30\n",
            "building tree 20 of 30\n",
            "building tree 21 of 30\n",
            "building tree 22 of 30\n",
            "building tree 23 of 30\n",
            "building tree 24 of 30\n",
            "building tree 25 of 30\n",
            "building tree 26 of 30\n",
            "building tree 27 of 30\n",
            "building tree 28 of 30\n",
            "building tree 29 of 30\n",
            "building tree 30 of 30\n"
          ],
          "name": "stdout"
        },
        {
          "output_type": "stream",
          "text": [
            "[Parallel(n_jobs=1)]: Done  30 out of  30 | elapsed:   24.9s finished\n",
            "[Parallel(n_jobs=1)]: Done   1 out of   1 | elapsed:    0.0s remaining:    0.0s\n",
            "[Parallel(n_jobs=1)]: Done  30 out of  30 | elapsed:    0.1s finished\n",
            "[Parallel(n_jobs=1)]: Done   1 out of   1 | elapsed:    0.0s remaining:    0.0s\n",
            "[Parallel(n_jobs=1)]: Done  30 out of  30 | elapsed:    0.1s finished\n",
            "/usr/local/lib/python3.6/dist-packages/sklearn/metrics/classification.py:1135: UndefinedMetricWarning: Precision is ill-defined and being set to 0.0 in labels with no predicted samples.\n",
            "  'precision', 'predicted', average, warn_for)\n",
            "[Parallel(n_jobs=1)]: Done   1 out of   1 | elapsed:    0.0s remaining:    0.0s\n",
            "[Parallel(n_jobs=1)]: Done  30 out of  30 | elapsed:    0.1s finished\n",
            "[Parallel(n_jobs=1)]: Done   1 out of   1 | elapsed:    0.0s remaining:    0.0s\n",
            "[Parallel(n_jobs=1)]: Done  30 out of  30 | elapsed:    0.1s finished\n",
            "/usr/local/lib/python3.6/dist-packages/sklearn/metrics/classification.py:1135: UndefinedMetricWarning: F-score is ill-defined and being set to 0.0 in labels with no predicted samples.\n",
            "  'precision', 'predicted', average, warn_for)\n",
            "[Parallel(n_jobs=1)]: Done   1 out of   1 | elapsed:    0.0s remaining:    0.0s\n",
            "[Parallel(n_jobs=1)]: Done  30 out of  30 | elapsed:    1.3s finished\n",
            "[Parallel(n_jobs=1)]: Done   1 out of   1 | elapsed:    0.0s remaining:    0.0s\n",
            "[Parallel(n_jobs=1)]: Done  30 out of  30 | elapsed:    1.3s finished\n",
            "[Parallel(n_jobs=1)]: Done   1 out of   1 | elapsed:    0.0s remaining:    0.0s\n",
            "[Parallel(n_jobs=1)]: Done  30 out of  30 | elapsed:    1.3s finished\n",
            "[Parallel(n_jobs=1)]: Done   1 out of   1 | elapsed:    0.0s remaining:    0.0s\n",
            "[Parallel(n_jobs=1)]: Done  30 out of  30 | elapsed:    1.3s finished\n",
            "/usr/local/lib/python3.6/dist-packages/sklearn/model_selection/_validation.py:458: DataConversionWarning: A column-vector y was passed when a 1d array was expected. Please change the shape of y to (n_samples,), for example using ravel().\n",
            "  estimator.fit(X_train, y_train, **fit_params)\n"
          ],
          "name": "stderr"
        },
        {
          "output_type": "stream",
          "text": [
            "building tree 1 of 30\n"
          ],
          "name": "stdout"
        },
        {
          "output_type": "stream",
          "text": [
            "[Parallel(n_jobs=1)]: Done   1 out of   1 | elapsed:    0.8s remaining:    0.0s\n"
          ],
          "name": "stderr"
        },
        {
          "output_type": "stream",
          "text": [
            "building tree 2 of 30\n",
            "building tree 3 of 30\n",
            "building tree 4 of 30\n",
            "building tree 5 of 30\n",
            "building tree 6 of 30\n",
            "building tree 7 of 30\n",
            "building tree 8 of 30\n",
            "building tree 9 of 30\n",
            "building tree 10 of 30\n",
            "building tree 11 of 30\n",
            "building tree 12 of 30\n",
            "building tree 13 of 30\n",
            "building tree 14 of 30\n",
            "building tree 15 of 30\n",
            "building tree 16 of 30\n",
            "building tree 17 of 30\n",
            "building tree 18 of 30\n",
            "building tree 19 of 30\n",
            "building tree 20 of 30\n",
            "building tree 21 of 30\n",
            "building tree 22 of 30\n",
            "building tree 23 of 30\n",
            "building tree 24 of 30\n",
            "building tree 25 of 30\n",
            "building tree 26 of 30\n",
            "building tree 27 of 30\n",
            "building tree 28 of 30\n",
            "building tree 29 of 30\n",
            "building tree 30 of 30\n"
          ],
          "name": "stdout"
        },
        {
          "output_type": "stream",
          "text": [
            "[Parallel(n_jobs=1)]: Done  30 out of  30 | elapsed:   25.0s finished\n",
            "[Parallel(n_jobs=1)]: Done   1 out of   1 | elapsed:    0.0s remaining:    0.0s\n",
            "[Parallel(n_jobs=1)]: Done  30 out of  30 | elapsed:    0.1s finished\n",
            "[Parallel(n_jobs=1)]: Done   1 out of   1 | elapsed:    0.0s remaining:    0.0s\n",
            "[Parallel(n_jobs=1)]: Done  30 out of  30 | elapsed:    0.1s finished\n",
            "/usr/local/lib/python3.6/dist-packages/sklearn/metrics/classification.py:1135: UndefinedMetricWarning: Precision is ill-defined and being set to 0.0 in labels with no predicted samples.\n",
            "  'precision', 'predicted', average, warn_for)\n",
            "[Parallel(n_jobs=1)]: Done   1 out of   1 | elapsed:    0.0s remaining:    0.0s\n",
            "[Parallel(n_jobs=1)]: Done  30 out of  30 | elapsed:    0.1s finished\n",
            "[Parallel(n_jobs=1)]: Done   1 out of   1 | elapsed:    0.0s remaining:    0.0s\n",
            "[Parallel(n_jobs=1)]: Done  30 out of  30 | elapsed:    0.1s finished\n",
            "/usr/local/lib/python3.6/dist-packages/sklearn/metrics/classification.py:1135: UndefinedMetricWarning: F-score is ill-defined and being set to 0.0 in labels with no predicted samples.\n",
            "  'precision', 'predicted', average, warn_for)\n",
            "[Parallel(n_jobs=1)]: Done   1 out of   1 | elapsed:    0.0s remaining:    0.0s\n",
            "[Parallel(n_jobs=1)]: Done  30 out of  30 | elapsed:    1.3s finished\n",
            "[Parallel(n_jobs=1)]: Done   1 out of   1 | elapsed:    0.0s remaining:    0.0s\n",
            "[Parallel(n_jobs=1)]: Done  30 out of  30 | elapsed:    1.3s finished\n",
            "[Parallel(n_jobs=1)]: Done   1 out of   1 | elapsed:    0.0s remaining:    0.0s\n",
            "[Parallel(n_jobs=1)]: Done  30 out of  30 | elapsed:    1.3s finished\n",
            "[Parallel(n_jobs=1)]: Done   1 out of   1 | elapsed:    0.0s remaining:    0.0s\n",
            "[Parallel(n_jobs=1)]: Done  30 out of  30 | elapsed:    1.3s finished\n",
            "/usr/local/lib/python3.6/dist-packages/sklearn/model_selection/_validation.py:458: DataConversionWarning: A column-vector y was passed when a 1d array was expected. Please change the shape of y to (n_samples,), for example using ravel().\n",
            "  estimator.fit(X_train, y_train, **fit_params)\n"
          ],
          "name": "stderr"
        },
        {
          "output_type": "stream",
          "text": [
            "building tree 1 of 30\n"
          ],
          "name": "stdout"
        },
        {
          "output_type": "stream",
          "text": [
            "[Parallel(n_jobs=1)]: Done   1 out of   1 | elapsed:    0.8s remaining:    0.0s\n"
          ],
          "name": "stderr"
        },
        {
          "output_type": "stream",
          "text": [
            "building tree 2 of 30\n",
            "building tree 3 of 30\n",
            "building tree 4 of 30\n",
            "building tree 5 of 30\n",
            "building tree 6 of 30\n",
            "building tree 7 of 30\n",
            "building tree 8 of 30\n",
            "building tree 9 of 30\n",
            "building tree 10 of 30\n",
            "building tree 11 of 30\n",
            "building tree 12 of 30\n",
            "building tree 13 of 30\n",
            "building tree 14 of 30\n",
            "building tree 15 of 30\n",
            "building tree 16 of 30\n",
            "building tree 17 of 30\n",
            "building tree 18 of 30\n",
            "building tree 19 of 30\n",
            "building tree 20 of 30\n",
            "building tree 21 of 30\n",
            "building tree 22 of 30\n",
            "building tree 23 of 30\n",
            "building tree 24 of 30\n",
            "building tree 25 of 30\n",
            "building tree 26 of 30\n",
            "building tree 27 of 30\n",
            "building tree 28 of 30\n",
            "building tree 29 of 30\n",
            "building tree 30 of 30\n"
          ],
          "name": "stdout"
        },
        {
          "output_type": "stream",
          "text": [
            "[Parallel(n_jobs=1)]: Done  30 out of  30 | elapsed:   24.8s finished\n",
            "[Parallel(n_jobs=1)]: Done   1 out of   1 | elapsed:    0.0s remaining:    0.0s\n",
            "[Parallel(n_jobs=1)]: Done  30 out of  30 | elapsed:    0.1s finished\n",
            "[Parallel(n_jobs=1)]: Done   1 out of   1 | elapsed:    0.0s remaining:    0.0s\n",
            "[Parallel(n_jobs=1)]: Done  30 out of  30 | elapsed:    0.1s finished\n",
            "/usr/local/lib/python3.6/dist-packages/sklearn/metrics/classification.py:1135: UndefinedMetricWarning: Precision is ill-defined and being set to 0.0 in labels with no predicted samples.\n",
            "  'precision', 'predicted', average, warn_for)\n",
            "[Parallel(n_jobs=1)]: Done   1 out of   1 | elapsed:    0.0s remaining:    0.0s\n",
            "[Parallel(n_jobs=1)]: Done  30 out of  30 | elapsed:    0.1s finished\n",
            "[Parallel(n_jobs=1)]: Done   1 out of   1 | elapsed:    0.0s remaining:    0.0s\n",
            "[Parallel(n_jobs=1)]: Done  30 out of  30 | elapsed:    0.1s finished\n",
            "/usr/local/lib/python3.6/dist-packages/sklearn/metrics/classification.py:1135: UndefinedMetricWarning: F-score is ill-defined and being set to 0.0 in labels with no predicted samples.\n",
            "  'precision', 'predicted', average, warn_for)\n",
            "[Parallel(n_jobs=1)]: Done   1 out of   1 | elapsed:    0.0s remaining:    0.0s\n",
            "[Parallel(n_jobs=1)]: Done  30 out of  30 | elapsed:    1.3s finished\n",
            "[Parallel(n_jobs=1)]: Done   1 out of   1 | elapsed:    0.0s remaining:    0.0s\n",
            "[Parallel(n_jobs=1)]: Done  30 out of  30 | elapsed:    1.4s finished\n",
            "[Parallel(n_jobs=1)]: Done   1 out of   1 | elapsed:    0.0s remaining:    0.0s\n",
            "[Parallel(n_jobs=1)]: Done  30 out of  30 | elapsed:    1.4s finished\n",
            "[Parallel(n_jobs=1)]: Done   1 out of   1 | elapsed:    0.0s remaining:    0.0s\n",
            "[Parallel(n_jobs=1)]: Done  30 out of  30 | elapsed:    1.4s finished\n",
            "/usr/local/lib/python3.6/dist-packages/sklearn/model_selection/_validation.py:458: DataConversionWarning: A column-vector y was passed when a 1d array was expected. Please change the shape of y to (n_samples,), for example using ravel().\n",
            "  estimator.fit(X_train, y_train, **fit_params)\n"
          ],
          "name": "stderr"
        },
        {
          "output_type": "stream",
          "text": [
            "building tree 1 of 30\n"
          ],
          "name": "stdout"
        },
        {
          "output_type": "stream",
          "text": [
            "[Parallel(n_jobs=1)]: Done   1 out of   1 | elapsed:    0.9s remaining:    0.0s\n"
          ],
          "name": "stderr"
        },
        {
          "output_type": "stream",
          "text": [
            "building tree 2 of 30\n",
            "building tree 3 of 30\n",
            "building tree 4 of 30\n",
            "building tree 5 of 30\n",
            "building tree 6 of 30\n",
            "building tree 7 of 30\n",
            "building tree 8 of 30\n",
            "building tree 9 of 30\n",
            "building tree 10 of 30\n",
            "building tree 11 of 30\n",
            "building tree 12 of 30\n",
            "building tree 13 of 30\n",
            "building tree 14 of 30\n",
            "building tree 15 of 30\n",
            "building tree 16 of 30\n",
            "building tree 17 of 30\n",
            "building tree 18 of 30\n",
            "building tree 19 of 30\n",
            "building tree 20 of 30\n",
            "building tree 21 of 30\n",
            "building tree 22 of 30\n",
            "building tree 23 of 30\n",
            "building tree 24 of 30\n",
            "building tree 25 of 30\n",
            "building tree 26 of 30\n",
            "building tree 27 of 30\n",
            "building tree 28 of 30\n",
            "building tree 29 of 30\n",
            "building tree 30 of 30\n"
          ],
          "name": "stdout"
        },
        {
          "output_type": "stream",
          "text": [
            "[Parallel(n_jobs=1)]: Done  30 out of  30 | elapsed:   25.3s finished\n",
            "[Parallel(n_jobs=1)]: Done   1 out of   1 | elapsed:    0.0s remaining:    0.0s\n",
            "[Parallel(n_jobs=1)]: Done  30 out of  30 | elapsed:    0.1s finished\n",
            "[Parallel(n_jobs=1)]: Done   1 out of   1 | elapsed:    0.0s remaining:    0.0s\n",
            "[Parallel(n_jobs=1)]: Done  30 out of  30 | elapsed:    0.1s finished\n",
            "/usr/local/lib/python3.6/dist-packages/sklearn/metrics/classification.py:1135: UndefinedMetricWarning: Precision is ill-defined and being set to 0.0 in labels with no predicted samples.\n",
            "  'precision', 'predicted', average, warn_for)\n",
            "[Parallel(n_jobs=1)]: Done   1 out of   1 | elapsed:    0.0s remaining:    0.0s\n",
            "[Parallel(n_jobs=1)]: Done  30 out of  30 | elapsed:    0.1s finished\n",
            "[Parallel(n_jobs=1)]: Done   1 out of   1 | elapsed:    0.0s remaining:    0.0s\n",
            "[Parallel(n_jobs=1)]: Done  30 out of  30 | elapsed:    0.1s finished\n",
            "/usr/local/lib/python3.6/dist-packages/sklearn/metrics/classification.py:1135: UndefinedMetricWarning: F-score is ill-defined and being set to 0.0 in labels with no predicted samples.\n",
            "  'precision', 'predicted', average, warn_for)\n",
            "[Parallel(n_jobs=1)]: Done   1 out of   1 | elapsed:    0.0s remaining:    0.0s\n",
            "[Parallel(n_jobs=1)]: Done  30 out of  30 | elapsed:    1.3s finished\n",
            "[Parallel(n_jobs=1)]: Done   1 out of   1 | elapsed:    0.0s remaining:    0.0s\n",
            "[Parallel(n_jobs=1)]: Done  30 out of  30 | elapsed:    1.3s finished\n",
            "[Parallel(n_jobs=1)]: Done   1 out of   1 | elapsed:    0.0s remaining:    0.0s\n",
            "[Parallel(n_jobs=1)]: Done  30 out of  30 | elapsed:    1.3s finished\n",
            "[Parallel(n_jobs=1)]: Done   1 out of   1 | elapsed:    0.0s remaining:    0.0s\n",
            "[Parallel(n_jobs=1)]: Done  30 out of  30 | elapsed:    1.4s finished\n"
          ],
          "name": "stderr"
        }
      ]
    },
    {
      "metadata": {
        "id": "qYsoqKjPNpJd",
        "colab_type": "code",
        "colab": {
          "base_uri": "https://localhost:8080/",
          "height": 85
        },
        "outputId": "74015183-cceb-4b7e-cc18-000c7faada3d"
      },
      "cell_type": "code",
      "source": [
        "from statistics import mean\n",
        "# Print Results of Cross-Validation\n",
        "test_accuracy = results['test_accuracy']\n",
        "test_precision = results['test_precision']\n",
        "test_recall = results['test_recall']\n",
        "test_f1 = results['test_f1']\n",
        "\n",
        "\n",
        "print('average test_accuracy of cross-valiudation is {0:.4f}'.format(mean(test_accuracy)))\n",
        "print('average test_precision of cross-valiudation is {0:.4f}'.format(mean(test_precision)))\n",
        "print('average test_recall of cross-valiudation is {0:.4f}'.format(mean(test_recall)))\n",
        "print('average test_f1 of cross-valiudation is {0:.4f}'.format(mean(test_f1)))"
      ],
      "execution_count": 56,
      "outputs": [
        {
          "output_type": "stream",
          "text": [
            "average test_accuracy of cross-valiudation is 0.1027\n",
            "average test_precision of cross-valiudation is 0.0743\n",
            "average test_recall of cross-valiudation is 0.1026\n",
            "average test_f1 of cross-valiudation is 0.0611\n"
          ],
          "name": "stdout"
        }
      ]
    },
    {
      "metadata": {
        "id": "jxfuI_klQavy",
        "colab_type": "text"
      },
      "cell_type": "markdown",
      "source": [
        "## 5) Confusion Matrix"
      ]
    },
    {
      "metadata": {
        "id": "SBY0tr79_gRD",
        "colab_type": "code",
        "colab": {
          "base_uri": "https://localhost:8080/",
          "height": 1890
        },
        "outputId": "fa23a227-b677-4bc0-cfb5-cf6f8fda54e2"
      },
      "cell_type": "code",
      "source": [
        "from sklearn.metrics import classification_report;\n",
        "\n",
        "predictions = rf.predict(x_test);\n",
        "\n",
        "print(classification_report(y_test, predictions));"
      ],
      "execution_count": 60,
      "outputs": [
        {
          "output_type": "stream",
          "text": [
            "[Parallel(n_jobs=1)]: Done   1 out of   1 | elapsed:    0.0s remaining:    0.0s\n"
          ],
          "name": "stderr"
        },
        {
          "output_type": "stream",
          "text": [
            "             precision    recall  f1-score   support\n",
            "\n",
            "          0       0.13      0.37      0.19       100\n",
            "          1       0.07      0.06      0.07       100\n",
            "          2       0.20      0.01      0.02       100\n",
            "          3       0.10      0.13      0.12       100\n",
            "          4       0.05      0.03      0.04       100\n",
            "          5       0.00      0.00      0.00       100\n",
            "          6       0.12      0.05      0.07       100\n",
            "          7       0.00      0.00      0.00       100\n",
            "          8       0.00      0.00      0.00       100\n",
            "          9       0.24      0.07      0.11       100\n",
            "         10       0.00      0.00      0.00       100\n",
            "         11       0.00      0.00      0.00       100\n",
            "         12       0.00      0.00      0.00       100\n",
            "         13       0.33      0.01      0.02       100\n",
            "         14       0.02      0.06      0.03       100\n",
            "         15       0.00      0.00      0.00       100\n",
            "         16       0.07      0.01      0.02       100\n",
            "         17       0.07      0.18      0.10       100\n",
            "         18       0.00      0.00      0.00       100\n",
            "         19       0.00      0.00      0.00       100\n",
            "         20       0.15      0.53      0.24       100\n",
            "         21       0.09      0.11      0.10       100\n",
            "         22       0.00      0.00      0.00       100\n",
            "         23       0.08      0.24      0.12       100\n",
            "         24       0.18      0.41      0.25       100\n",
            "         25       0.00      0.00      0.00       100\n",
            "         26       0.00      0.00      0.00       100\n",
            "         27       0.05      0.03      0.04       100\n",
            "         28       0.29      0.05      0.09       100\n",
            "         29       0.00      0.00      0.00       100\n",
            "         30       0.14      0.05      0.07       100\n",
            "         31       0.00      0.00      0.00       100\n",
            "         32       0.00      0.00      0.00       100\n",
            "         33       0.09      0.05      0.06       100\n",
            "         34       0.05      0.01      0.02       100\n",
            "         35       0.07      0.02      0.03       100\n",
            "         36       0.06      0.27      0.10       100\n",
            "         37       0.06      0.01      0.02       100\n",
            "         38       0.05      0.13      0.07       100\n",
            "         39       0.50      0.01      0.02       100\n",
            "         40       0.00      0.00      0.00       100\n",
            "         41       0.34      0.43      0.38       100\n",
            "         42       0.00      0.00      0.00       100\n",
            "         43       0.11      0.07      0.08       100\n",
            "         44       0.00      0.00      0.00       100\n",
            "         45       0.00      0.00      0.00       100\n",
            "         46       0.00      0.00      0.00       100\n",
            "         47       0.10      0.28      0.15       100\n",
            "         48       0.00      0.00      0.00       100\n",
            "         49       0.00      0.00      0.00       100\n",
            "         50       0.00      0.00      0.00       100\n",
            "         51       0.06      0.10      0.07       100\n",
            "         52       0.10      0.83      0.18       100\n",
            "         53       0.21      0.46      0.28       100\n",
            "         54       0.06      0.06      0.06       100\n",
            "         55       0.00      0.00      0.00       100\n",
            "         56       0.05      0.06      0.06       100\n",
            "         57       0.00      0.00      0.00       100\n",
            "         58       0.00      0.00      0.00       100\n",
            "         59       0.00      0.00      0.00       100\n",
            "         60       0.11      0.63      0.19       100\n",
            "         61       0.13      0.16      0.14       100\n",
            "         62       0.14      0.40      0.21       100\n",
            "         63       0.06      0.39      0.10       100\n",
            "         64       0.04      0.03      0.03       100\n",
            "         65       0.05      0.02      0.03       100\n",
            "         66       0.00      0.00      0.00       100\n",
            "         67       0.00      0.00      0.00       100\n",
            "         68       0.18      0.29      0.22       100\n",
            "         69       0.10      0.01      0.02       100\n",
            "         70       0.12      0.28      0.17       100\n",
            "         71       0.08      0.26      0.13       100\n",
            "         72       0.00      0.00      0.00       100\n",
            "         73       0.10      0.48      0.17       100\n",
            "         74       0.06      0.13      0.08       100\n",
            "         75       0.10      0.29      0.15       100\n",
            "         76       0.07      0.03      0.04       100\n",
            "         77       0.00      0.00      0.00       100\n",
            "         78       0.00      0.00      0.00       100\n",
            "         79       0.00      0.00      0.00       100\n",
            "         80       0.01      0.01      0.01       100\n",
            "         81       0.25      0.01      0.02       100\n",
            "         82       0.13      0.40      0.19       100\n",
            "         83       0.00      0.00      0.00       100\n",
            "         84       0.00      0.00      0.00       100\n",
            "         85       0.14      0.03      0.05       100\n",
            "         86       0.09      0.19      0.12       100\n",
            "         87       0.00      0.00      0.00       100\n",
            "         88       0.04      0.01      0.02       100\n",
            "         89       0.00      0.00      0.00       100\n",
            "         90       0.00      0.00      0.00       100\n",
            "         91       0.39      0.22      0.28       100\n",
            "         92       0.03      0.04      0.04       100\n",
            "         93       0.00      0.00      0.00       100\n",
            "         94       0.20      0.02      0.04       100\n",
            "         95       0.13      0.33      0.19       100\n",
            "         96       0.04      0.01      0.02       100\n",
            "         97       0.07      0.21      0.10       100\n",
            "         98       0.00      0.00      0.00       100\n",
            "         99       0.31      0.04      0.07       100\n",
            "\n",
            "avg / total       0.07      0.10      0.06     10000\n",
            "\n"
          ],
          "name": "stdout"
        },
        {
          "output_type": "stream",
          "text": [
            "[Parallel(n_jobs=1)]: Done  30 out of  30 | elapsed:    0.2s finished\n",
            "/usr/local/lib/python3.6/dist-packages/sklearn/metrics/classification.py:1135: UndefinedMetricWarning: Precision and F-score are ill-defined and being set to 0.0 in labels with no predicted samples.\n",
            "  'precision', 'predicted', average, warn_for)\n"
          ],
          "name": "stderr"
        }
      ]
    },
    {
      "metadata": {
        "id": "3fsvuBfsCg8q",
        "colab_type": "text"
      },
      "cell_type": "markdown",
      "source": [
        "# END CODE"
      ]
    },
    {
      "metadata": {
        "id": "fzQu4vSoQ3Ag",
        "colab_type": "code",
        "colab": {}
      },
      "cell_type": "code",
      "source": [
        ""
      ],
      "execution_count": 0,
      "outputs": []
    }
  ]
}